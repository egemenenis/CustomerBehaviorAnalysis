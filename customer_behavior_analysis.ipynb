{
  "nbformat": 4,
  "nbformat_minor": 0,
  "metadata": {
    "colab": {
      "provenance": []
    },
    "kernelspec": {
      "name": "python3",
      "display_name": "Python 3"
    },
    "language_info": {
      "name": "python"
    }
  },
  "cells": [
    {
      "cell_type": "code",
      "execution_count": 31,
      "metadata": {
        "id": "Fp8EufooSD6S"
      },
      "outputs": [],
      "source": [
        "# Load libraries\n",
        "import pandas as pd\n",
        "import numpy as np\n",
        "import matplotlib.pyplot as plt\n",
        "import seaborn as sns"
      ]
    },
    {
      "cell_type": "code",
      "source": [
        "from google.colab import drive\n",
        "drive.mount('/content/drive')"
      ],
      "metadata": {
        "colab": {
          "base_uri": "https://localhost:8080/"
        },
        "id": "sAdlmNaXSjRb",
        "outputId": "25499621-1587-4eb6-f3dc-c0e650ab20a8"
      },
      "execution_count": 32,
      "outputs": [
        {
          "output_type": "stream",
          "name": "stdout",
          "text": [
            "Drive already mounted at /content/drive; to attempt to forcibly remount, call drive.mount(\"/content/drive\", force_remount=True).\n"
          ]
        }
      ]
    },
    {
      "cell_type": "code",
      "source": [
        "# Specify the file path\n",
        "file_path = '/content/drive/MyDrive/my_data/customer_data.csv'\n",
        "\n",
        "# Load data\n",
        "df = pd.read_csv(file_path)"
      ],
      "metadata": {
        "id": "8A8q40ZCWhTA"
      },
      "execution_count": 33,
      "outputs": []
    },
    {
      "cell_type": "code",
      "source": [
        "from google.colab import files\n",
        "uploaded = files.upload()"
      ],
      "metadata": {
        "colab": {
          "base_uri": "https://localhost:8080/",
          "height": 73
        },
        "id": "vtjnpbq6a9UV",
        "outputId": "1534f791-32ce-41c4-c37d-3c6726bb3115"
      },
      "execution_count": 38,
      "outputs": [
        {
          "output_type": "display_data",
          "data": {
            "text/plain": [
              "<IPython.core.display.HTML object>"
            ],
            "text/html": [
              "\n",
              "     <input type=\"file\" id=\"files-168cc9f5-1ca9-4633-8c97-514c5f02d602\" name=\"files[]\" multiple disabled\n",
              "        style=\"border:none\" />\n",
              "     <output id=\"result-168cc9f5-1ca9-4633-8c97-514c5f02d602\">\n",
              "      Upload widget is only available when the cell has been executed in the\n",
              "      current browser session. Please rerun this cell to enable.\n",
              "      </output>\n",
              "      <script>// Copyright 2017 Google LLC\n",
              "//\n",
              "// Licensed under the Apache License, Version 2.0 (the \"License\");\n",
              "// you may not use this file except in compliance with the License.\n",
              "// You may obtain a copy of the License at\n",
              "//\n",
              "//      http://www.apache.org/licenses/LICENSE-2.0\n",
              "//\n",
              "// Unless required by applicable law or agreed to in writing, software\n",
              "// distributed under the License is distributed on an \"AS IS\" BASIS,\n",
              "// WITHOUT WARRANTIES OR CONDITIONS OF ANY KIND, either express or implied.\n",
              "// See the License for the specific language governing permissions and\n",
              "// limitations under the License.\n",
              "\n",
              "/**\n",
              " * @fileoverview Helpers for google.colab Python module.\n",
              " */\n",
              "(function(scope) {\n",
              "function span(text, styleAttributes = {}) {\n",
              "  const element = document.createElement('span');\n",
              "  element.textContent = text;\n",
              "  for (const key of Object.keys(styleAttributes)) {\n",
              "    element.style[key] = styleAttributes[key];\n",
              "  }\n",
              "  return element;\n",
              "}\n",
              "\n",
              "// Max number of bytes which will be uploaded at a time.\n",
              "const MAX_PAYLOAD_SIZE = 100 * 1024;\n",
              "\n",
              "function _uploadFiles(inputId, outputId) {\n",
              "  const steps = uploadFilesStep(inputId, outputId);\n",
              "  const outputElement = document.getElementById(outputId);\n",
              "  // Cache steps on the outputElement to make it available for the next call\n",
              "  // to uploadFilesContinue from Python.\n",
              "  outputElement.steps = steps;\n",
              "\n",
              "  return _uploadFilesContinue(outputId);\n",
              "}\n",
              "\n",
              "// This is roughly an async generator (not supported in the browser yet),\n",
              "// where there are multiple asynchronous steps and the Python side is going\n",
              "// to poll for completion of each step.\n",
              "// This uses a Promise to block the python side on completion of each step,\n",
              "// then passes the result of the previous step as the input to the next step.\n",
              "function _uploadFilesContinue(outputId) {\n",
              "  const outputElement = document.getElementById(outputId);\n",
              "  const steps = outputElement.steps;\n",
              "\n",
              "  const next = steps.next(outputElement.lastPromiseValue);\n",
              "  return Promise.resolve(next.value.promise).then((value) => {\n",
              "    // Cache the last promise value to make it available to the next\n",
              "    // step of the generator.\n",
              "    outputElement.lastPromiseValue = value;\n",
              "    return next.value.response;\n",
              "  });\n",
              "}\n",
              "\n",
              "/**\n",
              " * Generator function which is called between each async step of the upload\n",
              " * process.\n",
              " * @param {string} inputId Element ID of the input file picker element.\n",
              " * @param {string} outputId Element ID of the output display.\n",
              " * @return {!Iterable<!Object>} Iterable of next steps.\n",
              " */\n",
              "function* uploadFilesStep(inputId, outputId) {\n",
              "  const inputElement = document.getElementById(inputId);\n",
              "  inputElement.disabled = false;\n",
              "\n",
              "  const outputElement = document.getElementById(outputId);\n",
              "  outputElement.innerHTML = '';\n",
              "\n",
              "  const pickedPromise = new Promise((resolve) => {\n",
              "    inputElement.addEventListener('change', (e) => {\n",
              "      resolve(e.target.files);\n",
              "    });\n",
              "  });\n",
              "\n",
              "  const cancel = document.createElement('button');\n",
              "  inputElement.parentElement.appendChild(cancel);\n",
              "  cancel.textContent = 'Cancel upload';\n",
              "  const cancelPromise = new Promise((resolve) => {\n",
              "    cancel.onclick = () => {\n",
              "      resolve(null);\n",
              "    };\n",
              "  });\n",
              "\n",
              "  // Wait for the user to pick the files.\n",
              "  const files = yield {\n",
              "    promise: Promise.race([pickedPromise, cancelPromise]),\n",
              "    response: {\n",
              "      action: 'starting',\n",
              "    }\n",
              "  };\n",
              "\n",
              "  cancel.remove();\n",
              "\n",
              "  // Disable the input element since further picks are not allowed.\n",
              "  inputElement.disabled = true;\n",
              "\n",
              "  if (!files) {\n",
              "    return {\n",
              "      response: {\n",
              "        action: 'complete',\n",
              "      }\n",
              "    };\n",
              "  }\n",
              "\n",
              "  for (const file of files) {\n",
              "    const li = document.createElement('li');\n",
              "    li.append(span(file.name, {fontWeight: 'bold'}));\n",
              "    li.append(span(\n",
              "        `(${file.type || 'n/a'}) - ${file.size} bytes, ` +\n",
              "        `last modified: ${\n",
              "            file.lastModifiedDate ? file.lastModifiedDate.toLocaleDateString() :\n",
              "                                    'n/a'} - `));\n",
              "    const percent = span('0% done');\n",
              "    li.appendChild(percent);\n",
              "\n",
              "    outputElement.appendChild(li);\n",
              "\n",
              "    const fileDataPromise = new Promise((resolve) => {\n",
              "      const reader = new FileReader();\n",
              "      reader.onload = (e) => {\n",
              "        resolve(e.target.result);\n",
              "      };\n",
              "      reader.readAsArrayBuffer(file);\n",
              "    });\n",
              "    // Wait for the data to be ready.\n",
              "    let fileData = yield {\n",
              "      promise: fileDataPromise,\n",
              "      response: {\n",
              "        action: 'continue',\n",
              "      }\n",
              "    };\n",
              "\n",
              "    // Use a chunked sending to avoid message size limits. See b/62115660.\n",
              "    let position = 0;\n",
              "    do {\n",
              "      const length = Math.min(fileData.byteLength - position, MAX_PAYLOAD_SIZE);\n",
              "      const chunk = new Uint8Array(fileData, position, length);\n",
              "      position += length;\n",
              "\n",
              "      const base64 = btoa(String.fromCharCode.apply(null, chunk));\n",
              "      yield {\n",
              "        response: {\n",
              "          action: 'append',\n",
              "          file: file.name,\n",
              "          data: base64,\n",
              "        },\n",
              "      };\n",
              "\n",
              "      let percentDone = fileData.byteLength === 0 ?\n",
              "          100 :\n",
              "          Math.round((position / fileData.byteLength) * 100);\n",
              "      percent.textContent = `${percentDone}% done`;\n",
              "\n",
              "    } while (position < fileData.byteLength);\n",
              "  }\n",
              "\n",
              "  // All done.\n",
              "  yield {\n",
              "    response: {\n",
              "      action: 'complete',\n",
              "    }\n",
              "  };\n",
              "}\n",
              "\n",
              "scope.google = scope.google || {};\n",
              "scope.google.colab = scope.google.colab || {};\n",
              "scope.google.colab._files = {\n",
              "  _uploadFiles,\n",
              "  _uploadFilesContinue,\n",
              "};\n",
              "})(self);\n",
              "</script> "
            ]
          },
          "metadata": {}
        },
        {
          "output_type": "stream",
          "name": "stdout",
          "text": [
            "Saving customer_data.csv to customer_data (2).csv\n"
          ]
        }
      ]
    },
    {
      "cell_type": "code",
      "source": [
        "import io\n",
        "df = pd.read_csv(io.BytesIO(uploaded['customer_data.csv']))"
      ],
      "metadata": {
        "id": "pqA5IIywbG55"
      },
      "execution_count": null,
      "outputs": []
    },
    {
      "cell_type": "code",
      "source": [
        "# Display first 5 lines\n",
        "print(df.head())\n",
        "\n",
        "# Check data types\n",
        "print(df.info())\n",
        "\n",
        "# Check for missing values\n",
        "print(df.isnull().sum())\n",
        "\n",
        "# Remove or fill in missing values\n",
        "df = df.dropna()  # You can remove missing data\n",
        "# or df.fillna(value) you can fill in missing data with a value"
      ],
      "metadata": {
        "colab": {
          "base_uri": "https://localhost:8080/"
        },
        "id": "9AKptSa1bJ-S",
        "outputId": "546bfe40-62b3-408b-e364-623929ec403d"
      },
      "execution_count": 40,
      "outputs": [
        {
          "output_type": "stream",
          "name": "stdout",
          "text": [
            "  Customer_ID;Name;Age;Gender;Location;Product_Category;Product_Name;Price;Purchase_Frequency;Total_Spent;Date;Purchased_Next;\n",
            "0  1;John Doe;29;Male;New York;Electronics;Laptop...                                                                          \n",
            "1  2;Jane Smith;34;Female;California;Clothing;T-s...                                                                          \n",
            "2  3;Mark Lee;42;Male;Texas;Electronics;Smartphon...                                                                          \n",
            "3  4;Linda Green;25;Female;Florida;Home;Vacuum Cl...                                                                          \n",
            "4  5;James Brown;37;Male;New York;Clothing;Jeans;...                                                                          \n",
            "<class 'pandas.core.frame.DataFrame'>\n",
            "RangeIndex: 59 entries, 0 to 58\n",
            "Data columns (total 1 columns):\n",
            " #   Column                                                                                                                        Non-Null Count  Dtype \n",
            "---  ------                                                                                                                        --------------  ----- \n",
            " 0   Customer_ID;Name;Age;Gender;Location;Product_Category;Product_Name;Price;Purchase_Frequency;Total_Spent;Date;Purchased_Next;  59 non-null     object\n",
            "dtypes: object(1)\n",
            "memory usage: 600.0+ bytes\n",
            "None\n",
            "Customer_ID;Name;Age;Gender;Location;Product_Category;Product_Name;Price;Purchase_Frequency;Total_Spent;Date;Purchased_Next;    0\n",
            "dtype: int64\n"
          ]
        }
      ]
    },
    {
      "cell_type": "code",
      "source": [
        "import pandas as pd\n",
        "\n",
        "# Specify the correct separator when rereading the data\n",
        "df = pd.read_csv('customer_data.csv', sep=';')\n",
        "\n",
        "# Check columns\n",
        "print(df.columns)"
      ],
      "metadata": {
        "colab": {
          "base_uri": "https://localhost:8080/"
        },
        "id": "rCDUOLXDbR7T",
        "outputId": "79a6803a-7f86-44aa-b42b-de40e6a92c39"
      },
      "execution_count": 41,
      "outputs": [
        {
          "output_type": "stream",
          "name": "stdout",
          "text": [
            "Index(['Customer_ID', 'Name', 'Age', 'Gender', 'Location', 'Product_Category',\n",
            "       'Product_Name', 'Price', 'Purchase_Frequency', 'Total_Spent', 'Date',\n",
            "       'Purchased_Next', 'Unnamed: 12'],\n",
            "      dtype='object')\n"
          ]
        }
      ]
    },
    {
      "cell_type": "code",
      "source": [
        "# General statistics\n",
        "print(df.describe())\n",
        "\n",
        "# Average and median values ​​for metrics like Age, Spending and Purchase Frequency\n",
        "print(\"Average Age:\", df['Age'].mean())\n",
        "print(\"Average Spending:\", df['Total_Spent'].mean())\n",
        "print(\"Average Purchase Frequency:\", df['Purchase_Frequency'].mean())"
      ],
      "metadata": {
        "colab": {
          "base_uri": "https://localhost:8080/"
        },
        "id": "R37sCgLhcYKr",
        "outputId": "695cd5ac-5e18-4a0d-c617-eb8372473ae2"
      },
      "execution_count": 42,
      "outputs": [
        {
          "output_type": "stream",
          "name": "stdout",
          "text": [
            "       Customer_ID        Age        Price  Purchase_Frequency  Total_Spent  \\\n",
            "count    59.000000  59.000000    59.000000           59.000000    59.000000   \n",
            "mean     30.169492  33.559322   240.328983            6.016949   989.855085   \n",
            "std      17.423876   6.460146   293.637802            3.277360  1158.163559   \n",
            "min       1.000000  23.000000    14.990000            2.000000   139.860000   \n",
            "25%      15.500000  29.000000    34.990000            4.000000   239.900000   \n",
            "50%      30.000000  32.000000    99.990000            5.000000   599.970000   \n",
            "75%      44.500000  38.000000   299.990000            7.500000   999.980000   \n",
            "max      60.000000  50.000000  1299.990000           15.000000  4999.950000   \n",
            "\n",
            "       Purchased_Next  Unnamed: 12  \n",
            "count       59.000000          0.0  \n",
            "mean         0.694915          NaN  \n",
            "std          0.464396          NaN  \n",
            "min          0.000000          NaN  \n",
            "25%          0.000000          NaN  \n",
            "50%          1.000000          NaN  \n",
            "75%          1.000000          NaN  \n",
            "max          1.000000          NaN  \n",
            "Average Age: 33.559322033898304\n",
            "Average Spending: 989.8550847457626\n",
            "Average Purchase Frequency: 6.016949152542373\n"
          ]
        }
      ]
    },
    {
      "cell_type": "code",
      "source": [
        "# Age segmentation\n",
        "bins = [0, 25, 35, 45, 100]\n",
        "labels = ['18-25', '26-35', '36-45', '46+']\n",
        "df['Age_Segment'] = pd.cut(df['Age'], bins=bins, labels=labels)\n",
        "\n",
        "# Number of customers in each age segment\n",
        "print(df['Age_Segment'].value_counts())"
      ],
      "metadata": {
        "colab": {
          "base_uri": "https://localhost:8080/"
        },
        "id": "1Ap_cUrlcxia",
        "outputId": "b6a23465-db06-4036-bd09-e5badfb487bc"
      },
      "execution_count": 43,
      "outputs": [
        {
          "output_type": "stream",
          "name": "stdout",
          "text": [
            "Age_Segment\n",
            "26-35    35\n",
            "36-45    18\n",
            "18-25     4\n",
            "46+       2\n",
            "Name: count, dtype: int64\n"
          ]
        }
      ]
    },
    {
      "cell_type": "code",
      "source": [
        "# Spending analysis by product categories\n",
        "category_spending = df.groupby('Product_Category')['Total_Spent'].mean()\n",
        "print(category_spending)\n",
        "\n",
        "# Comparison of product categories and purchasing frequency\n",
        "category_frequency = df.groupby('Product_Category')['Purchase_Frequency'].mean()\n",
        "print(category_frequency)"
      ],
      "metadata": {
        "colab": {
          "base_uri": "https://localhost:8080/"
        },
        "id": "1rXwZl_cc0cJ",
        "outputId": "e0c51a00-5fd3-49d0-c9d7-65c887b1bd18"
      },
      "execution_count": 44,
      "outputs": [
        {
          "output_type": "stream",
          "name": "stdout",
          "text": [
            "Product_Category\n",
            "Clothing        318.100909\n",
            "Electronics    2005.835294\n",
            "Furniture       929.964000\n",
            "Home            682.612000\n",
            "Toys            210.720000\n",
            "Name: Total_Spent, dtype: float64\n",
            "Product_Category\n",
            "Clothing        8.090909\n",
            "Electronics     4.705882\n",
            "Furniture       3.600000\n",
            "Home            5.466667\n",
            "Toys           11.333333\n",
            "Name: Purchase_Frequency, dtype: float64\n"
          ]
        }
      ]
    },
    {
      "cell_type": "code",
      "source": [
        "# Convert 'Date' column to datetime type\n",
        "df['Date'] = pd.to_datetime(df['Date'], errors='coerce')\n",
        "\n",
        "# Check the conversion process\n",
        "print(df['Date'].head())"
      ],
      "metadata": {
        "colab": {
          "base_uri": "https://localhost:8080/"
        },
        "id": "DJukmpwkc5Ej",
        "outputId": "ac358d76-2fc7-4a16-f699-dfb7c8791167"
      },
      "execution_count": 45,
      "outputs": [
        {
          "output_type": "stream",
          "name": "stdout",
          "text": [
            "0   2024-01-15\n",
            "1   2024-01-17\n",
            "2   2024-01-18\n",
            "3   2024-02-10\n",
            "4   2024-02-14\n",
            "Name: Date, dtype: datetime64[ns]\n"
          ]
        },
        {
          "output_type": "stream",
          "name": "stderr",
          "text": [
            "<ipython-input-45-4bf8f0c31b7e>:2: UserWarning: Parsing dates in %d.%m.%Y format when dayfirst=False (the default) was specified. Pass `dayfirst=True` or specify a format to silence this warning.\n",
            "  df['Date'] = pd.to_datetime(df['Date'], errors='coerce')\n"
          ]
        }
      ]
    },
    {
      "cell_type": "code",
      "source": [
        "# Total monthly spending\n",
        "df['Month'] = df['Date'].dt.to_period('M')\n",
        "monthly_spending = df.groupby('Month')['Total_Spent'].sum()\n",
        "print(monthly_spending)\n",
        "\n",
        "# Monthly purchasing frequency\n",
        "monthly_frequency = df.groupby('Month')['Purchase_Frequency'].sum()\n",
        "print(monthly_frequency)"
      ],
      "metadata": {
        "colab": {
          "base_uri": "https://localhost:8080/"
        },
        "id": "28pBAfK1dMOq",
        "outputId": "c7c77a06-f2b7-4478-cc84-fb9ec1d4ea20"
      },
      "execution_count": 46,
      "outputs": [
        {
          "output_type": "stream",
          "name": "stdout",
          "text": [
            "Month\n",
            "2024-01     6739.80\n",
            "2024-02     2579.75\n",
            "2024-03    15084.18\n",
            "2024-04    13889.03\n",
            "2024-05    10789.06\n",
            "2024-06     9319.63\n",
            "Freq: M, Name: Total_Spent, dtype: float64\n",
            "Month\n",
            "2024-01    20\n",
            "2024-02    25\n",
            "2024-03    82\n",
            "2024-04    97\n",
            "2024-05    94\n",
            "2024-06    37\n",
            "Freq: M, Name: Purchase_Frequency, dtype: int64\n"
          ]
        }
      ]
    },
    {
      "cell_type": "code",
      "source": [
        "# Separate repeat buyers and non-purchasers using the Purchased_Next column\n",
        "repeat_buyers = df[df['Purchased_Next'] == 1]\n",
        "non_repeat_buyers = df[df['Purchased_Next'] == 0]\n",
        "\n",
        "# Difference in spending between repeat shoppers and non-repurchasers\n",
        "print(\"Average Expenditure of Repeat Customers:\", repeat_buyers['Total_Spent'].mean())\n",
        "print(\"Average Expenditure of Customers Who Do Not Shop Again:\", non_repeat_buyers['Total_Spent'].mean())"
      ],
      "metadata": {
        "colab": {
          "base_uri": "https://localhost:8080/"
        },
        "id": "rEwz3UgZdSTf",
        "outputId": "bde023c7-47f3-440c-8d2f-8e1a62e9b22c"
      },
      "execution_count": 47,
      "outputs": [
        {
          "output_type": "stream",
          "name": "stdout",
          "text": [
            "Average Expenditure of Repeat Customers: 923.9614634146341\n",
            "Average Expenditure of Customers Who Do Not Shop Again: 1139.9461111111113\n"
          ]
        }
      ]
    },
    {
      "cell_type": "code",
      "source": [
        "# Spending distribution by product categories\n",
        "plt.figure(figsize=(10, 6))\n",
        "sns.barplot(x=category_spending.index, y=category_spending.values)\n",
        "plt.title('Average Spending by Product Categories')\n",
        "plt.xticks(rotation=45)\n",
        "plt.show()\n",
        "\n",
        "# Average spend by age segment\n",
        "plt.figure(figsize=(8, 5))\n",
        "sns.boxplot(x='Age_Segment', y='Total_Spent', data=df)\n",
        "plt.title('Expenditure Distribution by Age Segments')\n",
        "plt.show()"
      ],
      "metadata": {
        "colab": {
          "base_uri": "https://localhost:8080/",
          "height": 1000
        },
        "id": "Loz0QMRBdVmi",
        "outputId": "de49aa22-5934-4647-e7fe-7ebd7e058f1e"
      },
      "execution_count": 48,
      "outputs": [
        {
          "output_type": "display_data",
          "data": {
            "text/plain": [
              "<Figure size 1000x600 with 1 Axes>"
            ],
            "image/png": "[encoded data removed]"
          },
          "metadata": {}
        },
        {
          "output_type": "display_data",
          "data": {
            "text/plain": [
              "<Figure size 800x500 with 1 Axes>"
            ],
            "image/png": "[encoded data removed]"
          },
          "metadata": {}
        }
      ]
    },
    {
      "cell_type": "code",
      "source": [
        "# Save CLV and segment information to a new CSV file\n",
        "df.to_csv('customer_analysis_results.csv', index=False)"
      ],
      "metadata": {
        "id": "N2mTQKludaHI"
      },
      "execution_count": 49,
      "outputs": []
    }
  ]
}